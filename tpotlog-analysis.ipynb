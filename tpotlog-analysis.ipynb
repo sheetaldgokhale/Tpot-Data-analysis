{
 "cells": [
  {
   "cell_type": "code",
   "execution_count": 1,
   "metadata": {},
   "outputs": [],
   "source": [
    "import numpy as np\n",
    "import matplotlib.pyplot as plt\n",
    "import pandas as pd\n",
    "import seaborn as sns\n",
    "import warnings\n",
    "warnings.filterwarnings(\"ignore\")"
   ]
  },
  {
   "cell_type": "code",
   "execution_count": 2,
   "metadata": {},
   "outputs": [],
   "source": [
    "tpot=pd.read_csv('DatabaseHP/TpotLogC.csv', delimiter = ',')\n",
    "#import the dataset"
   ]
  },
  {
   "cell_type": "code",
   "execution_count": 3,
   "metadata": {},
   "outputs": [
    {
     "data": {
      "text/html": [
       "<div>\n",
       "<style scoped>\n",
       "    .dataframe tbody tr th:only-of-type {\n",
       "        vertical-align: middle;\n",
       "    }\n",
       "\n",
       "    .dataframe tbody tr th {\n",
       "        vertical-align: top;\n",
       "    }\n",
       "\n",
       "    .dataframe thead th {\n",
       "        text-align: right;\n",
       "    }\n",
       "</style>\n",
       "<table border=\"1\" class=\"dataframe\">\n",
       "  <thead>\n",
       "    <tr style=\"text-align: right;\">\n",
       "      <th></th>\n",
       "      <th>src_port</th>\n",
       "      <th>ssh.client.proto_version</th>\n",
       "      <th>ssh.server.proto_version</th>\n",
       "      <th>request_time</th>\n",
       "      <th>alert.severity</th>\n",
       "      <th>dest_port</th>\n",
       "      <th>alert.gid</th>\n",
       "    </tr>\n",
       "  </thead>\n",
       "  <tbody>\n",
       "    <tr>\n",
       "      <th>count</th>\n",
       "      <td>42845.000000</td>\n",
       "      <td>33.0</td>\n",
       "      <td>44.0</td>\n",
       "      <td>287.000000</td>\n",
       "      <td>4840.000000</td>\n",
       "      <td>42845.000000</td>\n",
       "      <td>4840.0</td>\n",
       "    </tr>\n",
       "    <tr>\n",
       "      <th>mean</th>\n",
       "      <td>50562.378737</td>\n",
       "      <td>2.0</td>\n",
       "      <td>2.0</td>\n",
       "      <td>0.200676</td>\n",
       "      <td>1.161983</td>\n",
       "      <td>1929.812907</td>\n",
       "      <td>1.0</td>\n",
       "    </tr>\n",
       "    <tr>\n",
       "      <th>std</th>\n",
       "      <td>15824.913995</td>\n",
       "      <td>0.0</td>\n",
       "      <td>0.0</td>\n",
       "      <td>0.383430</td>\n",
       "      <td>0.438630</td>\n",
       "      <td>7354.319901</td>\n",
       "      <td>0.0</td>\n",
       "    </tr>\n",
       "    <tr>\n",
       "      <th>min</th>\n",
       "      <td>23.000000</td>\n",
       "      <td>2.0</td>\n",
       "      <td>2.0</td>\n",
       "      <td>0.000000</td>\n",
       "      <td>1.000000</td>\n",
       "      <td>19.000000</td>\n",
       "      <td>1.0</td>\n",
       "    </tr>\n",
       "    <tr>\n",
       "      <th>25%</th>\n",
       "      <td>49828.000000</td>\n",
       "      <td>2.0</td>\n",
       "      <td>2.0</td>\n",
       "      <td>0.010000</td>\n",
       "      <td>1.000000</td>\n",
       "      <td>445.000000</td>\n",
       "      <td>1.0</td>\n",
       "    </tr>\n",
       "    <tr>\n",
       "      <th>50%</th>\n",
       "      <td>55022.000000</td>\n",
       "      <td>2.0</td>\n",
       "      <td>2.0</td>\n",
       "      <td>0.037000</td>\n",
       "      <td>1.000000</td>\n",
       "      <td>445.000000</td>\n",
       "      <td>1.0</td>\n",
       "    </tr>\n",
       "    <tr>\n",
       "      <th>75%</th>\n",
       "      <td>60013.000000</td>\n",
       "      <td>2.0</td>\n",
       "      <td>2.0</td>\n",
       "      <td>0.241000</td>\n",
       "      <td>1.000000</td>\n",
       "      <td>445.000000</td>\n",
       "      <td>1.0</td>\n",
       "    </tr>\n",
       "    <tr>\n",
       "      <th>max</th>\n",
       "      <td>65533.000000</td>\n",
       "      <td>2.0</td>\n",
       "      <td>2.0</td>\n",
       "      <td>2.969000</td>\n",
       "      <td>3.000000</td>\n",
       "      <td>64679.000000</td>\n",
       "      <td>1.0</td>\n",
       "    </tr>\n",
       "  </tbody>\n",
       "</table>\n",
       "</div>"
      ],
      "text/plain": [
       "           src_port  ssh.client.proto_version  ssh.server.proto_version  \\\n",
       "count  42845.000000                      33.0                      44.0   \n",
       "mean   50562.378737                       2.0                       2.0   \n",
       "std    15824.913995                       0.0                       0.0   \n",
       "min       23.000000                       2.0                       2.0   \n",
       "25%    49828.000000                       2.0                       2.0   \n",
       "50%    55022.000000                       2.0                       2.0   \n",
       "75%    60013.000000                       2.0                       2.0   \n",
       "max    65533.000000                       2.0                       2.0   \n",
       "\n",
       "       request_time  alert.severity     dest_port  alert.gid  \n",
       "count    287.000000     4840.000000  42845.000000     4840.0  \n",
       "mean       0.200676        1.161983   1929.812907        1.0  \n",
       "std        0.383430        0.438630   7354.319901        0.0  \n",
       "min        0.000000        1.000000     19.000000        1.0  \n",
       "25%        0.010000        1.000000    445.000000        1.0  \n",
       "50%        0.037000        1.000000    445.000000        1.0  \n",
       "75%        0.241000        1.000000    445.000000        1.0  \n",
       "max        2.969000        3.000000  64679.000000        1.0  "
      ]
     },
     "execution_count": 3,
     "metadata": {},
     "output_type": "execute_result"
    }
   ],
   "source": [
    "df= pd.DataFrame(tpot)\n",
    "df.describe()"
   ]
  },
  {
   "cell_type": "code",
   "execution_count": 4,
   "metadata": {},
   "outputs": [
    {
     "data": {
      "text/plain": [
       "Index(['@timestamp', '_id', 'alert.action', 'src_ip', 'src_port',\n",
       "       'ssh.client.proto_version', 'ssh.server.proto_version',\n",
       "       'ssh.server.software_version', 't-pot_ip_ext', 'sensor',\n",
       "       'request_method', 'request_time', 'reason', 'alert.category',\n",
       "       'alert.severity', 'alert.signature', 'app_proto', 'dest_ip',\n",
       "       'dest_port', 'eventid', 'event_type', 'geoip.city_name',\n",
       "       'geoip.country_name', 'type', 'subject', 'smb.response.native_lm',\n",
       "       'smb.request.native_os', 'smb.request.native_lm', 'smb.command',\n",
       "       'proto', 'os', 'mod', 'metadata.flowbits', 'link', 'ip_rep', 'in_iface',\n",
       "       'http_user_agent', 'geoip.timezone', 'geoip.region_name',\n",
       "       'geoip.region_code', 'geoip.postal_code', 'flow_id', 'dns.type',\n",
       "       'alert.metadata.deployment', 'alert.gid'],\n",
       "      dtype='object')"
      ]
     },
     "execution_count": 4,
     "metadata": {},
     "output_type": "execute_result"
    }
   ],
   "source": [
    "df.head()\n",
    "df.columns"
   ]
  },
  {
   "cell_type": "code",
   "execution_count": 5,
   "metadata": {},
   "outputs": [
    {
     "data": {
      "text/html": [
       "<div>\n",
       "<style scoped>\n",
       "    .dataframe tbody tr th:only-of-type {\n",
       "        vertical-align: middle;\n",
       "    }\n",
       "\n",
       "    .dataframe tbody tr th {\n",
       "        vertical-align: top;\n",
       "    }\n",
       "\n",
       "    .dataframe thead th {\n",
       "        text-align: right;\n",
       "    }\n",
       "</style>\n",
       "<table border=\"1\" class=\"dataframe\">\n",
       "  <thead>\n",
       "    <tr style=\"text-align: right;\">\n",
       "      <th></th>\n",
       "      <th>@timestamp</th>\n",
       "      <th>_id</th>\n",
       "      <th>alert.action</th>\n",
       "      <th>src_ip</th>\n",
       "      <th>src_port</th>\n",
       "      <th>ssh.client.proto_version</th>\n",
       "      <th>ssh.server.proto_version</th>\n",
       "      <th>ssh.server.software_version</th>\n",
       "      <th>t-pot_ip_ext</th>\n",
       "      <th>sensor</th>\n",
       "      <th>...</th>\n",
       "      <th>in_iface</th>\n",
       "      <th>http_user_agent</th>\n",
       "      <th>geoip.timezone</th>\n",
       "      <th>geoip.region_name</th>\n",
       "      <th>geoip.region_code</th>\n",
       "      <th>geoip.postal_code</th>\n",
       "      <th>flow_id</th>\n",
       "      <th>dns.type</th>\n",
       "      <th>alert.metadata.deployment</th>\n",
       "      <th>alert.gid</th>\n",
       "    </tr>\n",
       "  </thead>\n",
       "  <tbody>\n",
       "    <tr>\n",
       "      <th>0</th>\n",
       "      <td>May 21st 2020, 07:21:32.224</td>\n",
       "      <td>DvEbNnIBQ6WmAthX0vEE</td>\n",
       "      <td>NaN</td>\n",
       "      <td>78.152.169.153</td>\n",
       "      <td>64145.0</td>\n",
       "      <td>NaN</td>\n",
       "      <td>NaN</td>\n",
       "      <td>NaN</td>\n",
       "      <td>3.21.190.207</td>\n",
       "      <td>NaN</td>\n",
       "      <td>...</td>\n",
       "      <td>eth0</td>\n",
       "      <td>NaN</td>\n",
       "      <td>Europe/Kiev</td>\n",
       "      <td>Khmel'nyts'ka Oblast'</td>\n",
       "      <td>68</td>\n",
       "      <td>NaN</td>\n",
       "      <td>68,34,82,50,60,13,354</td>\n",
       "      <td>NaN</td>\n",
       "      <td>NaN</td>\n",
       "      <td>NaN</td>\n",
       "    </tr>\n",
       "    <tr>\n",
       "      <th>1</th>\n",
       "      <td>May 21st 2020, 07:21:32.152</td>\n",
       "      <td>CPEbNnIBQ6WmAthX0vED</td>\n",
       "      <td>NaN</td>\n",
       "      <td>101.51.236.231</td>\n",
       "      <td>50235.0</td>\n",
       "      <td>NaN</td>\n",
       "      <td>NaN</td>\n",
       "      <td>NaN</td>\n",
       "      <td>3.21.190.207</td>\n",
       "      <td>NaN</td>\n",
       "      <td>...</td>\n",
       "      <td>eth0</td>\n",
       "      <td>NaN</td>\n",
       "      <td>Asia/Bangkok</td>\n",
       "      <td>Changwat Surin</td>\n",
       "      <td>32</td>\n",
       "      <td>NaN</td>\n",
       "      <td>44,91,72,71,26,58,469</td>\n",
       "      <td>NaN</td>\n",
       "      <td>NaN</td>\n",
       "      <td>NaN</td>\n",
       "    </tr>\n",
       "    <tr>\n",
       "      <th>2</th>\n",
       "      <td>May 21st 2020, 07:21:32.123</td>\n",
       "      <td>CfEbNnIBQ6WmAthX0vED</td>\n",
       "      <td>NaN</td>\n",
       "      <td>172.31.0.2</td>\n",
       "      <td>53.0</td>\n",
       "      <td>NaN</td>\n",
       "      <td>NaN</td>\n",
       "      <td>NaN</td>\n",
       "      <td>3.21.190.207</td>\n",
       "      <td>NaN</td>\n",
       "      <td>...</td>\n",
       "      <td>eth0</td>\n",
       "      <td>NaN</td>\n",
       "      <td>NaN</td>\n",
       "      <td>NaN</td>\n",
       "      <td>NaN</td>\n",
       "      <td>NaN</td>\n",
       "      <td>1,64,24,64,95,14,59,710</td>\n",
       "      <td>answer</td>\n",
       "      <td>NaN</td>\n",
       "      <td>NaN</td>\n",
       "    </tr>\n",
       "    <tr>\n",
       "      <th>3</th>\n",
       "      <td>May 21st 2020, 07:21:32.122</td>\n",
       "      <td>BfEbNnIBQ6WmAthX0vED</td>\n",
       "      <td>NaN</td>\n",
       "      <td>172.31.22.131</td>\n",
       "      <td>47162.0</td>\n",
       "      <td>NaN</td>\n",
       "      <td>NaN</td>\n",
       "      <td>NaN</td>\n",
       "      <td>3.21.190.207</td>\n",
       "      <td>NaN</td>\n",
       "      <td>...</td>\n",
       "      <td>eth0</td>\n",
       "      <td>NaN</td>\n",
       "      <td>NaN</td>\n",
       "      <td>NaN</td>\n",
       "      <td>NaN</td>\n",
       "      <td>NaN</td>\n",
       "      <td>1,64,24,64,95,14,59,710</td>\n",
       "      <td>query</td>\n",
       "      <td>NaN</td>\n",
       "      <td>NaN</td>\n",
       "    </tr>\n",
       "    <tr>\n",
       "      <th>4</th>\n",
       "      <td>May 21st 2020, 07:21:32.079</td>\n",
       "      <td>DfEbNnIBQ6WmAthX0vEE</td>\n",
       "      <td>NaN</td>\n",
       "      <td>78.152.169.153</td>\n",
       "      <td>64145.0</td>\n",
       "      <td>NaN</td>\n",
       "      <td>NaN</td>\n",
       "      <td>NaN</td>\n",
       "      <td>3.21.190.207</td>\n",
       "      <td>NaN</td>\n",
       "      <td>...</td>\n",
       "      <td>eth0</td>\n",
       "      <td>NaN</td>\n",
       "      <td>Europe/Kiev</td>\n",
       "      <td>Khmel'nyts'ka Oblast'</td>\n",
       "      <td>68</td>\n",
       "      <td>NaN</td>\n",
       "      <td>68,34,82,50,60,13,354</td>\n",
       "      <td>NaN</td>\n",
       "      <td>NaN</td>\n",
       "      <td>NaN</td>\n",
       "    </tr>\n",
       "  </tbody>\n",
       "</table>\n",
       "<p>5 rows × 45 columns</p>\n",
       "</div>"
      ],
      "text/plain": [
       "                    @timestamp                   _id alert.action  \\\n",
       "0  May 21st 2020, 07:21:32.224  DvEbNnIBQ6WmAthX0vEE          NaN   \n",
       "1  May 21st 2020, 07:21:32.152  CPEbNnIBQ6WmAthX0vED          NaN   \n",
       "2  May 21st 2020, 07:21:32.123  CfEbNnIBQ6WmAthX0vED          NaN   \n",
       "3  May 21st 2020, 07:21:32.122  BfEbNnIBQ6WmAthX0vED          NaN   \n",
       "4  May 21st 2020, 07:21:32.079  DfEbNnIBQ6WmAthX0vEE          NaN   \n",
       "\n",
       "           src_ip  src_port  ssh.client.proto_version  \\\n",
       "0  78.152.169.153   64145.0                       NaN   \n",
       "1  101.51.236.231   50235.0                       NaN   \n",
       "2      172.31.0.2      53.0                       NaN   \n",
       "3   172.31.22.131   47162.0                       NaN   \n",
       "4  78.152.169.153   64145.0                       NaN   \n",
       "\n",
       "   ssh.server.proto_version ssh.server.software_version  t-pot_ip_ext sensor  \\\n",
       "0                       NaN                         NaN  3.21.190.207    NaN   \n",
       "1                       NaN                         NaN  3.21.190.207    NaN   \n",
       "2                       NaN                         NaN  3.21.190.207    NaN   \n",
       "3                       NaN                         NaN  3.21.190.207    NaN   \n",
       "4                       NaN                         NaN  3.21.190.207    NaN   \n",
       "\n",
       "   ... in_iface  http_user_agent geoip.timezone      geoip.region_name  \\\n",
       "0  ...     eth0              NaN    Europe/Kiev  Khmel'nyts'ka Oblast'   \n",
       "1  ...     eth0              NaN   Asia/Bangkok         Changwat Surin   \n",
       "2  ...     eth0              NaN            NaN                    NaN   \n",
       "3  ...     eth0              NaN            NaN                    NaN   \n",
       "4  ...     eth0              NaN    Europe/Kiev  Khmel'nyts'ka Oblast'   \n",
       "\n",
       "   geoip.region_code geoip.postal_code                  flow_id dns.type  \\\n",
       "0                 68               NaN    68,34,82,50,60,13,354      NaN   \n",
       "1                 32               NaN    44,91,72,71,26,58,469      NaN   \n",
       "2                NaN               NaN  1,64,24,64,95,14,59,710   answer   \n",
       "3                NaN               NaN  1,64,24,64,95,14,59,710    query   \n",
       "4                 68               NaN    68,34,82,50,60,13,354      NaN   \n",
       "\n",
       "   alert.metadata.deployment alert.gid  \n",
       "0                        NaN       NaN  \n",
       "1                        NaN       NaN  \n",
       "2                        NaN       NaN  \n",
       "3                        NaN       NaN  \n",
       "4                        NaN       NaN  \n",
       "\n",
       "[5 rows x 45 columns]"
      ]
     },
     "execution_count": 5,
     "metadata": {},
     "output_type": "execute_result"
    }
   ],
   "source": [
    "tpot.head()\n",
    "#the dataset"
   ]
  },
  {
   "cell_type": "code",
   "execution_count": 6,
   "metadata": {},
   "outputs": [
    {
     "data": {
      "text/html": [
       "<div>\n",
       "<style scoped>\n",
       "    .dataframe tbody tr th:only-of-type {\n",
       "        vertical-align: middle;\n",
       "    }\n",
       "\n",
       "    .dataframe tbody tr th {\n",
       "        vertical-align: top;\n",
       "    }\n",
       "\n",
       "    .dataframe thead th {\n",
       "        text-align: right;\n",
       "    }\n",
       "</style>\n",
       "<table border=\"1\" class=\"dataframe\">\n",
       "  <thead>\n",
       "    <tr style=\"text-align: right;\">\n",
       "      <th></th>\n",
       "      <th>@timestamp</th>\n",
       "      <th>_id</th>\n",
       "      <th>alert.action</th>\n",
       "      <th>src_ip</th>\n",
       "      <th>src_port</th>\n",
       "      <th>ssh.client.proto_version</th>\n",
       "      <th>ssh.server.proto_version</th>\n",
       "      <th>ssh.server.software_version</th>\n",
       "      <th>t-pot_ip_ext</th>\n",
       "      <th>sensor</th>\n",
       "      <th>...</th>\n",
       "      <th>in_iface</th>\n",
       "      <th>http_user_agent</th>\n",
       "      <th>geoip.timezone</th>\n",
       "      <th>geoip.region_name</th>\n",
       "      <th>geoip.region_code</th>\n",
       "      <th>geoip.postal_code</th>\n",
       "      <th>flow_id</th>\n",
       "      <th>dns.type</th>\n",
       "      <th>alert.metadata.deployment</th>\n",
       "      <th>alert.gid</th>\n",
       "    </tr>\n",
       "  </thead>\n",
       "  <tbody>\n",
       "    <tr>\n",
       "      <th>0</th>\n",
       "      <td>May 21st 2020, 07:21:32.224</td>\n",
       "      <td>DvEbNnIBQ6WmAthX0vEE</td>\n",
       "      <td>NaN</td>\n",
       "      <td>78.152.169.153</td>\n",
       "      <td>64145.0</td>\n",
       "      <td>NaN</td>\n",
       "      <td>NaN</td>\n",
       "      <td>NaN</td>\n",
       "      <td>3.21.190.207</td>\n",
       "      <td>NaN</td>\n",
       "      <td>...</td>\n",
       "      <td>eth0</td>\n",
       "      <td>NaN</td>\n",
       "      <td>Europe/Kiev</td>\n",
       "      <td>Khmel'nyts'ka Oblast'</td>\n",
       "      <td>68</td>\n",
       "      <td>NaN</td>\n",
       "      <td>68,34,82,50,60,13,354</td>\n",
       "      <td>NaN</td>\n",
       "      <td>NaN</td>\n",
       "      <td>NaN</td>\n",
       "    </tr>\n",
       "    <tr>\n",
       "      <th>1</th>\n",
       "      <td>May 21st 2020, 07:21:32.152</td>\n",
       "      <td>CPEbNnIBQ6WmAthX0vED</td>\n",
       "      <td>NaN</td>\n",
       "      <td>101.51.236.231</td>\n",
       "      <td>50235.0</td>\n",
       "      <td>NaN</td>\n",
       "      <td>NaN</td>\n",
       "      <td>NaN</td>\n",
       "      <td>3.21.190.207</td>\n",
       "      <td>NaN</td>\n",
       "      <td>...</td>\n",
       "      <td>eth0</td>\n",
       "      <td>NaN</td>\n",
       "      <td>Asia/Bangkok</td>\n",
       "      <td>Changwat Surin</td>\n",
       "      <td>32</td>\n",
       "      <td>NaN</td>\n",
       "      <td>44,91,72,71,26,58,469</td>\n",
       "      <td>NaN</td>\n",
       "      <td>NaN</td>\n",
       "      <td>NaN</td>\n",
       "    </tr>\n",
       "    <tr>\n",
       "      <th>2</th>\n",
       "      <td>May 21st 2020, 07:21:32.123</td>\n",
       "      <td>CfEbNnIBQ6WmAthX0vED</td>\n",
       "      <td>NaN</td>\n",
       "      <td>172.31.0.2</td>\n",
       "      <td>53.0</td>\n",
       "      <td>NaN</td>\n",
       "      <td>NaN</td>\n",
       "      <td>NaN</td>\n",
       "      <td>3.21.190.207</td>\n",
       "      <td>NaN</td>\n",
       "      <td>...</td>\n",
       "      <td>eth0</td>\n",
       "      <td>NaN</td>\n",
       "      <td>NaN</td>\n",
       "      <td>NaN</td>\n",
       "      <td>NaN</td>\n",
       "      <td>NaN</td>\n",
       "      <td>1,64,24,64,95,14,59,710</td>\n",
       "      <td>answer</td>\n",
       "      <td>NaN</td>\n",
       "      <td>NaN</td>\n",
       "    </tr>\n",
       "    <tr>\n",
       "      <th>3</th>\n",
       "      <td>May 21st 2020, 07:21:32.122</td>\n",
       "      <td>BfEbNnIBQ6WmAthX0vED</td>\n",
       "      <td>NaN</td>\n",
       "      <td>172.31.22.131</td>\n",
       "      <td>47162.0</td>\n",
       "      <td>NaN</td>\n",
       "      <td>NaN</td>\n",
       "      <td>NaN</td>\n",
       "      <td>3.21.190.207</td>\n",
       "      <td>NaN</td>\n",
       "      <td>...</td>\n",
       "      <td>eth0</td>\n",
       "      <td>NaN</td>\n",
       "      <td>NaN</td>\n",
       "      <td>NaN</td>\n",
       "      <td>NaN</td>\n",
       "      <td>NaN</td>\n",
       "      <td>1,64,24,64,95,14,59,710</td>\n",
       "      <td>query</td>\n",
       "      <td>NaN</td>\n",
       "      <td>NaN</td>\n",
       "    </tr>\n",
       "    <tr>\n",
       "      <th>4</th>\n",
       "      <td>May 21st 2020, 07:21:32.079</td>\n",
       "      <td>DfEbNnIBQ6WmAthX0vEE</td>\n",
       "      <td>NaN</td>\n",
       "      <td>78.152.169.153</td>\n",
       "      <td>64145.0</td>\n",
       "      <td>NaN</td>\n",
       "      <td>NaN</td>\n",
       "      <td>NaN</td>\n",
       "      <td>3.21.190.207</td>\n",
       "      <td>NaN</td>\n",
       "      <td>...</td>\n",
       "      <td>eth0</td>\n",
       "      <td>NaN</td>\n",
       "      <td>Europe/Kiev</td>\n",
       "      <td>Khmel'nyts'ka Oblast'</td>\n",
       "      <td>68</td>\n",
       "      <td>NaN</td>\n",
       "      <td>68,34,82,50,60,13,354</td>\n",
       "      <td>NaN</td>\n",
       "      <td>NaN</td>\n",
       "      <td>NaN</td>\n",
       "    </tr>\n",
       "    <tr>\n",
       "      <th>...</th>\n",
       "      <td>...</td>\n",
       "      <td>...</td>\n",
       "      <td>...</td>\n",
       "      <td>...</td>\n",
       "      <td>...</td>\n",
       "      <td>...</td>\n",
       "      <td>...</td>\n",
       "      <td>...</td>\n",
       "      <td>...</td>\n",
       "      <td>...</td>\n",
       "      <td>...</td>\n",
       "      <td>...</td>\n",
       "      <td>...</td>\n",
       "      <td>...</td>\n",
       "      <td>...</td>\n",
       "      <td>...</td>\n",
       "      <td>...</td>\n",
       "      <td>...</td>\n",
       "      <td>...</td>\n",
       "      <td>...</td>\n",
       "      <td>...</td>\n",
       "    </tr>\n",
       "    <tr>\n",
       "      <th>43276</th>\n",
       "      <td>May 21st 2020, 04:09:52.000</td>\n",
       "      <td>FSVsNXIBg6mF2jJlWvxf</td>\n",
       "      <td>NaN</td>\n",
       "      <td>210.18.189.3</td>\n",
       "      <td>51400.0</td>\n",
       "      <td>NaN</td>\n",
       "      <td>NaN</td>\n",
       "      <td>NaN</td>\n",
       "      <td>18.221.209.151</td>\n",
       "      <td>NaN</td>\n",
       "      <td>...</td>\n",
       "      <td>NaN</td>\n",
       "      <td>NaN</td>\n",
       "      <td>Asia/Kolkata</td>\n",
       "      <td>Tamil Nadu</td>\n",
       "      <td>TN</td>\n",
       "      <td>NaN</td>\n",
       "      <td>NaN</td>\n",
       "      <td>NaN</td>\n",
       "      <td>NaN</td>\n",
       "      <td>NaN</td>\n",
       "    </tr>\n",
       "    <tr>\n",
       "      <th>43277</th>\n",
       "      <td>May 21st 2020, 04:09:52.000</td>\n",
       "      <td>GSVsNXIBg6mF2jJlWvxf</td>\n",
       "      <td>NaN</td>\n",
       "      <td>210.18.189.3</td>\n",
       "      <td>51400.0</td>\n",
       "      <td>NaN</td>\n",
       "      <td>NaN</td>\n",
       "      <td>NaN</td>\n",
       "      <td>18.221.209.151</td>\n",
       "      <td>NaN</td>\n",
       "      <td>...</td>\n",
       "      <td>NaN</td>\n",
       "      <td>NaN</td>\n",
       "      <td>Asia/Kolkata</td>\n",
       "      <td>Tamil Nadu</td>\n",
       "      <td>TN</td>\n",
       "      <td>NaN</td>\n",
       "      <td>NaN</td>\n",
       "      <td>NaN</td>\n",
       "      <td>NaN</td>\n",
       "      <td>NaN</td>\n",
       "    </tr>\n",
       "    <tr>\n",
       "      <th>43278</th>\n",
       "      <td>May 21st 2020, 04:09:52.000</td>\n",
       "      <td>FCVsNXIBg6mF2jJlWvxf</td>\n",
       "      <td>NaN</td>\n",
       "      <td>171.236.68.137</td>\n",
       "      <td>25648.0</td>\n",
       "      <td>NaN</td>\n",
       "      <td>NaN</td>\n",
       "      <td>NaN</td>\n",
       "      <td>18.221.209.151</td>\n",
       "      <td>NaN</td>\n",
       "      <td>...</td>\n",
       "      <td>NaN</td>\n",
       "      <td>NaN</td>\n",
       "      <td>Asia/Ho_Chi_Minh</td>\n",
       "      <td>Thanh Pho Ha Noi</td>\n",
       "      <td>HN</td>\n",
       "      <td>NaN</td>\n",
       "      <td>NaN</td>\n",
       "      <td>NaN</td>\n",
       "      <td>NaN</td>\n",
       "      <td>NaN</td>\n",
       "    </tr>\n",
       "    <tr>\n",
       "      <th>43279</th>\n",
       "      <td>May 21st 2020, 04:09:52.000</td>\n",
       "      <td>OyVsNXIBg6mF2jJlXvxJ</td>\n",
       "      <td>NaN</td>\n",
       "      <td>210.18.189.3</td>\n",
       "      <td>51676.0</td>\n",
       "      <td>NaN</td>\n",
       "      <td>NaN</td>\n",
       "      <td>NaN</td>\n",
       "      <td>18.221.209.151</td>\n",
       "      <td>NaN</td>\n",
       "      <td>...</td>\n",
       "      <td>NaN</td>\n",
       "      <td>NaN</td>\n",
       "      <td>Asia/Kolkata</td>\n",
       "      <td>Tamil Nadu</td>\n",
       "      <td>TN</td>\n",
       "      <td>NaN</td>\n",
       "      <td>NaN</td>\n",
       "      <td>NaN</td>\n",
       "      <td>NaN</td>\n",
       "      <td>NaN</td>\n",
       "    </tr>\n",
       "    <tr>\n",
       "      <th>43280</th>\n",
       "      <td>May 21st 2020, 04:09:52.000</td>\n",
       "      <td>LiVsNXIBg6mF2jJlXvxJ</td>\n",
       "      <td>NaN</td>\n",
       "      <td>210.18.189.3</td>\n",
       "      <td>51676.0</td>\n",
       "      <td>NaN</td>\n",
       "      <td>NaN</td>\n",
       "      <td>NaN</td>\n",
       "      <td>18.221.209.151</td>\n",
       "      <td>NaN</td>\n",
       "      <td>...</td>\n",
       "      <td>NaN</td>\n",
       "      <td>NaN</td>\n",
       "      <td>Asia/Kolkata</td>\n",
       "      <td>Tamil Nadu</td>\n",
       "      <td>TN</td>\n",
       "      <td>NaN</td>\n",
       "      <td>NaN</td>\n",
       "      <td>NaN</td>\n",
       "      <td>NaN</td>\n",
       "      <td>NaN</td>\n",
       "    </tr>\n",
       "  </tbody>\n",
       "</table>\n",
       "<p>43281 rows × 45 columns</p>\n",
       "</div>"
      ],
      "text/plain": [
       "                        @timestamp                   _id alert.action  \\\n",
       "0      May 21st 2020, 07:21:32.224  DvEbNnIBQ6WmAthX0vEE          NaN   \n",
       "1      May 21st 2020, 07:21:32.152  CPEbNnIBQ6WmAthX0vED          NaN   \n",
       "2      May 21st 2020, 07:21:32.123  CfEbNnIBQ6WmAthX0vED          NaN   \n",
       "3      May 21st 2020, 07:21:32.122  BfEbNnIBQ6WmAthX0vED          NaN   \n",
       "4      May 21st 2020, 07:21:32.079  DfEbNnIBQ6WmAthX0vEE          NaN   \n",
       "...                            ...                   ...          ...   \n",
       "43276  May 21st 2020, 04:09:52.000  FSVsNXIBg6mF2jJlWvxf          NaN   \n",
       "43277  May 21st 2020, 04:09:52.000  GSVsNXIBg6mF2jJlWvxf          NaN   \n",
       "43278  May 21st 2020, 04:09:52.000  FCVsNXIBg6mF2jJlWvxf          NaN   \n",
       "43279  May 21st 2020, 04:09:52.000  OyVsNXIBg6mF2jJlXvxJ          NaN   \n",
       "43280  May 21st 2020, 04:09:52.000  LiVsNXIBg6mF2jJlXvxJ          NaN   \n",
       "\n",
       "               src_ip  src_port  ssh.client.proto_version  \\\n",
       "0      78.152.169.153   64145.0                       NaN   \n",
       "1      101.51.236.231   50235.0                       NaN   \n",
       "2          172.31.0.2      53.0                       NaN   \n",
       "3       172.31.22.131   47162.0                       NaN   \n",
       "4      78.152.169.153   64145.0                       NaN   \n",
       "...               ...       ...                       ...   \n",
       "43276    210.18.189.3   51400.0                       NaN   \n",
       "43277    210.18.189.3   51400.0                       NaN   \n",
       "43278  171.236.68.137   25648.0                       NaN   \n",
       "43279    210.18.189.3   51676.0                       NaN   \n",
       "43280    210.18.189.3   51676.0                       NaN   \n",
       "\n",
       "       ssh.server.proto_version ssh.server.software_version    t-pot_ip_ext  \\\n",
       "0                           NaN                         NaN    3.21.190.207   \n",
       "1                           NaN                         NaN    3.21.190.207   \n",
       "2                           NaN                         NaN    3.21.190.207   \n",
       "3                           NaN                         NaN    3.21.190.207   \n",
       "4                           NaN                         NaN    3.21.190.207   \n",
       "...                         ...                         ...             ...   \n",
       "43276                       NaN                         NaN  18.221.209.151   \n",
       "43277                       NaN                         NaN  18.221.209.151   \n",
       "43278                       NaN                         NaN  18.221.209.151   \n",
       "43279                       NaN                         NaN  18.221.209.151   \n",
       "43280                       NaN                         NaN  18.221.209.151   \n",
       "\n",
       "      sensor  ... in_iface  http_user_agent    geoip.timezone  \\\n",
       "0        NaN  ...     eth0              NaN       Europe/Kiev   \n",
       "1        NaN  ...     eth0              NaN      Asia/Bangkok   \n",
       "2        NaN  ...     eth0              NaN               NaN   \n",
       "3        NaN  ...     eth0              NaN               NaN   \n",
       "4        NaN  ...     eth0              NaN       Europe/Kiev   \n",
       "...      ...  ...      ...              ...               ...   \n",
       "43276    NaN  ...      NaN              NaN      Asia/Kolkata   \n",
       "43277    NaN  ...      NaN              NaN      Asia/Kolkata   \n",
       "43278    NaN  ...      NaN              NaN  Asia/Ho_Chi_Minh   \n",
       "43279    NaN  ...      NaN              NaN      Asia/Kolkata   \n",
       "43280    NaN  ...      NaN              NaN      Asia/Kolkata   \n",
       "\n",
       "           geoip.region_name  geoip.region_code geoip.postal_code  \\\n",
       "0      Khmel'nyts'ka Oblast'                 68               NaN   \n",
       "1             Changwat Surin                 32               NaN   \n",
       "2                        NaN                NaN               NaN   \n",
       "3                        NaN                NaN               NaN   \n",
       "4      Khmel'nyts'ka Oblast'                 68               NaN   \n",
       "...                      ...                ...               ...   \n",
       "43276             Tamil Nadu                 TN               NaN   \n",
       "43277             Tamil Nadu                 TN               NaN   \n",
       "43278       Thanh Pho Ha Noi                 HN               NaN   \n",
       "43279             Tamil Nadu                 TN               NaN   \n",
       "43280             Tamil Nadu                 TN               NaN   \n",
       "\n",
       "                       flow_id dns.type  alert.metadata.deployment alert.gid  \n",
       "0        68,34,82,50,60,13,354      NaN                        NaN       NaN  \n",
       "1        44,91,72,71,26,58,469      NaN                        NaN       NaN  \n",
       "2      1,64,24,64,95,14,59,710   answer                        NaN       NaN  \n",
       "3      1,64,24,64,95,14,59,710    query                        NaN       NaN  \n",
       "4        68,34,82,50,60,13,354      NaN                        NaN       NaN  \n",
       "...                        ...      ...                        ...       ...  \n",
       "43276                      NaN      NaN                        NaN       NaN  \n",
       "43277                      NaN      NaN                        NaN       NaN  \n",
       "43278                      NaN      NaN                        NaN       NaN  \n",
       "43279                      NaN      NaN                        NaN       NaN  \n",
       "43280                      NaN      NaN                        NaN       NaN  \n",
       "\n",
       "[43281 rows x 45 columns]"
      ]
     },
     "execution_count": 6,
     "metadata": {},
     "output_type": "execute_result"
    }
   ],
   "source": [
    "tpot #orginal database size or file size"
   ]
  },
  {
   "cell_type": "code",
   "execution_count": 7,
   "metadata": {},
   "outputs": [
    {
     "data": {
      "text/plain": [
       "P0f          23796\n",
       "Suricata     14625\n",
       "Dionaea       4292\n",
       "NGINX          287\n",
       "Cowrie         168\n",
       "Honeytrap      102\n",
       "Rdpy             9\n",
       "Tanner           1\n",
       "Ciscoasa         1\n",
       "Name: type, dtype: int64"
      ]
     },
     "execution_count": 7,
     "metadata": {},
     "output_type": "execute_result"
    }
   ],
   "source": [
    "tpot['type'].value_counts()[:10] #top 10 honeypot services that logged n number of attacks"
   ]
  },
  {
   "cell_type": "code",
   "execution_count": 8,
   "metadata": {
    "scrolled": true
   },
   "outputs": [
    {
     "data": {
      "text/plain": [
       "184.82.167.253     7235\n",
       "101.51.236.231     6971\n",
       "210.18.189.3       6142\n",
       "172.31.22.131      4063\n",
       "78.152.169.153     3133\n",
       "171.236.68.137     3093\n",
       "165.169.13.10      2170\n",
       "176.118.217.242    1608\n",
       "93.80.60.111       1369\n",
       "113.22.100.9       1318\n",
       "Name: src_ip, dtype: int64"
      ]
     },
     "execution_count": 8,
     "metadata": {},
     "output_type": "execute_result"
    }
   ],
   "source": [
    "tpot['src_ip'].value_counts()[:10] #Top 10 Source IP"
   ]
  },
  {
   "cell_type": "code",
   "execution_count": 9,
   "metadata": {},
   "outputs": [
    {
     "data": {
      "image/png": "[encoded data removed]",
      "text/plain": [
       "<Figure size 432x288 with 1 Axes>"
      ]
     },
     "metadata": {
      "needs_background": "light"
     },
     "output_type": "display_data"
    }
   ],
   "source": [
    "p = sns.countplot(data=tpot.head(), y = 'src_ip')\n",
    "plt.rc('figure', figsize=(5,5))"
   ]
  },
  {
   "cell_type": "code",
   "execution_count": 11,
   "metadata": {},
   "outputs": [
    {
     "data": {
      "text/plain": [
       "Attempted Administrator Privilege Gain    4186\n",
       "Attempted Information Leak                 228\n",
       "Misc Attack                                190\n",
       "Potentially Bad Traffic                     88\n",
       "Misc activity                               61\n",
       "Generic Protocol Command Decode             58\n",
       "Not Suspicious Traffic                      18\n",
       "A Network Trojan was detected                6\n",
       "Attempted Denial of Service                  3\n",
       "Potential Corporate Privacy Violation        1\n",
       "Name: alert.category, dtype: int64"
      ]
     },
     "execution_count": 11,
     "metadata": {},
     "output_type": "execute_result"
    }
   ],
   "source": [
    "tpot['alert.category'].value_counts()[:10] #Top 10 alert categories or attack types"
   ]
  },
  {
   "cell_type": "code",
   "execution_count": 12,
   "metadata": {},
   "outputs": [
    {
     "data": {
      "image/png": "[encoded data removed]",
      "text/plain": [
       "<Figure size 360x360 with 1 Axes>"
      ]
     },
     "metadata": {
      "needs_background": "light"
     },
     "output_type": "display_data"
    }
   ],
   "source": [
    "p = sns.countplot(data=tpot, y = 'alert.category')\n",
    "plt.rc('figure', figsize=(8,5))"
   ]
  },
  {
   "cell_type": "code",
   "execution_count": 13,
   "metadata": {},
   "outputs": [
    {
     "data": {
      "text/plain": [
       "172.31.22.131      38752\n",
       "160.44.201.156      3325\n",
       "172.31.0.2           682\n",
       "172.23.0.2            36\n",
       "185.209.0.143         20\n",
       "191.19.23.155         19\n",
       "89.144.47.57           4\n",
       "185.153.196.243        4\n",
       "217.64.111.6           4\n",
       "205.185.123.189        2\n",
       "Name: dest_ip, dtype: int64"
      ]
     },
     "execution_count": 13,
     "metadata": {},
     "output_type": "execute_result"
    }
   ],
   "source": [
    "tpot['dest_ip'].value_counts()[:10] #top 10 targeted destination IPs "
   ]
  },
  {
   "cell_type": "code",
   "execution_count": 14,
   "metadata": {},
   "outputs": [
    {
     "data": {
      "text/plain": [
       "ET EXPLOIT [PTsecurity] DoublePulsar Backdoor installation communication                                    4180\n",
       "ET SCAN NMAP -sS window 1024                                                                                 127\n",
       "ET INFO User-Agent (python-requests) Inbound to Webserver                                                     70\n",
       "ET DROP Dshield Block Listed Source group 1                                                                   65\n",
       "GPL DNS SPOOF query response with TTL of 1 min. and no authority                                              49\n",
       "ET SCAN Potential SSH Scan                                                                                    29\n",
       "ET SCAN Suspicious inbound to MSSQL port 1433                                                                 21\n",
       "ET POLICY RDP connection request                                                                              16\n",
       "GPL ICMP_INFO Destination Unreachable Communication with Destination Host is Administratively Prohibited      16\n",
       "GPL POLICY MS Remote Desktop Request RDP                                                                      16\n",
       "Name: alert.signature, dtype: int64"
      ]
     },
     "execution_count": 14,
     "metadata": {},
     "output_type": "execute_result"
    }
   ],
   "source": [
    "tpot['alert.signature'].value_counts()[:10] #top 10 attack signatures"
   ]
  },
  {
   "cell_type": "code",
   "execution_count": 15,
   "metadata": {},
   "outputs": [
    {
     "data": {
      "text/plain": [
       "1.0    4193\n",
       "2.0     510\n",
       "3.0     137\n",
       "Name: alert.severity, dtype: int64"
      ]
     },
     "execution_count": 15,
     "metadata": {},
     "output_type": "execute_result"
    }
   ],
   "source": [
    "tpot['alert.severity'].value_counts()[:10] #severity levels of attack"
   ]
  },
  {
   "cell_type": "code",
   "execution_count": 16,
   "metadata": {},
   "outputs": [
    {
     "data": {
      "text/plain": [
       "[\"Internet\"]      4180\n",
       "[\"Perimeter\"]      207\n",
       "[\"Datacenter\"]       3\n",
       "[\"Internal\"]         3\n",
       "Name: alert.metadata.deployment, dtype: int64"
      ]
     },
     "execution_count": 16,
     "metadata": {},
     "output_type": "execute_result"
    }
   ],
   "source": [
    "tpot['alert.metadata.deployment'].value_counts()[:10]"
   ]
  },
  {
   "cell_type": "code",
   "execution_count": 17,
   "metadata": {},
   "outputs": [
    {
     "data": {
      "text/plain": [
       "ttl                              208\n",
       "ttl port                         127\n",
       "sig_diff x_known ttl mtu          12\n",
       "sig_diff x_known port mtu         11\n",
       "sig_diff x_known ttl port mtu     10\n",
       "port                              10\n",
       "sig_diff x_known mtu               9\n",
       "os_diff port                       7\n",
       "tstamp port                        2\n",
       "os_diff                            2\n",
       "Name: reason, dtype: int64"
      ]
     },
     "execution_count": 17,
     "metadata": {},
     "output_type": "execute_result"
    }
   ],
   "source": [
    "tpot['reason'].value_counts()[:10] #top 10 reasons"
   ]
  },
  {
   "cell_type": "code",
   "execution_count": 18,
   "metadata": {},
   "outputs": [
    {
     "data": {
      "text/plain": [
       "smb         8287\n",
       "alert       4840\n",
       "dns         1350\n",
       "http          88\n",
       "ssh           27\n",
       "rdp           16\n",
       "tls           11\n",
       "fileinfo       3\n",
       "anomaly        3\n",
       "Name: event_type, dtype: int64"
      ]
     },
     "execution_count": 18,
     "metadata": {},
     "output_type": "execute_result"
    }
   ],
   "source": [
    "tpot['event_type'].value_counts()"
   ]
  },
  {
   "cell_type": "code",
   "execution_count": 19,
   "metadata": {},
   "outputs": [
    {
     "data": {
      "text/plain": [
       "TCP     13188\n",
       "UDP      1421\n",
       "ICMP       16\n",
       "Name: proto, dtype: int64"
      ]
     },
     "execution_count": 19,
     "metadata": {},
     "output_type": "execute_result"
    }
   ],
   "source": [
    "tpot['proto'].value_counts() #protocols"
   ]
  },
  {
   "cell_type": "code",
   "execution_count": 20,
   "metadata": {},
   "outputs": [
    {
     "data": {
      "image/png": "[encoded data removed]",
      "text/plain": [
       "<Figure size 576x360 with 1 Axes>"
      ]
     },
     "metadata": {
      "needs_background": "light"
     },
     "output_type": "display_data"
    }
   ],
   "source": [
    "p = sns.countplot(data=tpot.head(), y = 'dest_port')\n",
    "plt.rc('figure', figsize=(8,8)) #the attacked ports"
   ]
  },
  {
   "cell_type": "code",
   "execution_count": 21,
   "metadata": {},
   "outputs": [
    {
     "data": {
      "text/plain": [
       "???                                5396\n",
       "Windows 7 or 8                     4443\n",
       "Linux 2.2.x-3.x                     845\n",
       "Linux 3.x                           666\n",
       "Linux 3.11 and newer                124\n",
       "Linux 2.2.x-3.x (barebone)           35\n",
       "Windows NT kernel                    21\n",
       "Linux 3.1-3.10                       20\n",
       "Windows XP                            6\n",
       "Linux 2.2.x-3.x (no timestamps)       6\n",
       "Linux 2.0                             1\n",
       "Linux 2.4.x                           1\n",
       "Linux 2.4.x-2.6.x                     1\n",
       "Name: os, dtype: int64"
      ]
     },
     "execution_count": 21,
     "metadata": {},
     "output_type": "execute_result"
    }
   ],
   "source": [
    "tpot['os'].value_counts() #top 10 OS"
   ]
  },
  {
   "cell_type": "code",
   "execution_count": 22,
   "metadata": {},
   "outputs": [
    {
     "data": {
      "text/plain": [
       "Thailand          14346\n",
       "India              6511\n",
       "Vietnam            4726\n",
       "Russia             3278\n",
       "Ukraine            3141\n",
       "Réunion            2170\n",
       "China              1515\n",
       "United States      1431\n",
       "United Kingdom      162\n",
       "Netherlands         145\n",
       "Name: geoip.country_name, dtype: int64"
      ]
     },
     "execution_count": 22,
     "metadata": {},
     "output_type": "execute_result"
    }
   ],
   "source": [
    "tpot['geoip.country_name'].value_counts()[:10] #top 10 Countries"
   ]
  },
  {
   "cell_type": "code",
   "execution_count": 23,
   "metadata": {},
   "outputs": [
    {
     "data": {
      "text/plain": [
       "Surin           6971\n",
       "Chennai         6142\n",
       "Hanoi           4722\n",
       "Khmelnytskyi    3133\n",
       "Ryazan          1608\n",
       "Moscow          1369\n",
       "Buffalo          769\n",
       "Zhengzhou        637\n",
       "Guiyang          393\n",
       "Mumbai           351\n",
       "Name: geoip.city_name, dtype: int64"
      ]
     },
     "execution_count": 23,
     "metadata": {},
     "output_type": "execute_result"
    }
   ],
   "source": [
    "tpot['geoip.city_name'].value_counts()[:10] \n",
    "#top 10 Cities"
   ]
  },
  {
   "cell_type": "code",
   "execution_count": 24,
   "metadata": {},
   "outputs": [
    {
     "data": {
      "text/plain": [
       "smb       4213\n",
       "http        78\n",
       "dns         71\n",
       "rdp         33\n",
       "ssh         17\n",
       "failed       5\n",
       "Name: app_proto, dtype: int64"
      ]
     },
     "execution_count": 24,
     "metadata": {},
     "output_type": "execute_result"
    }
   ],
   "source": [
    "tpot['app_proto'].value_counts() \n",
    "#targeted application protocols"
   ]
  },
  {
   "cell_type": "code",
   "execution_count": 25,
   "metadata": {},
   "outputs": [
    {
     "data": {
      "text/plain": [
       "alert.signature                                                           geoip.country_name  src_ip         \n",
       "ET EXPLOIT [PTsecurity] DoublePulsar Backdoor installation communication  Russia              176.118.217.242    1573\n",
       "                                                                                              93.80.60.111       1329\n",
       "                                                                          Vietnam             113.22.100.9       1278\n",
       "ET INFO User-Agent (python-requests) Inbound to Webserver                 United States       192.3.67.106         25\n",
       "                                                                                              23.95.226.155        17\n",
       "ET SCAN NMAP -sS window 1024                                              United Kingdom      51.161.13.149        11\n",
       "ET INFO User-Agent (python-requests) Inbound to Webserver                 United States       167.99.190.39        10\n",
       "ET POLICY RDP connection request                                          Latvia              185.209.0.143        10\n",
       "GPL POLICY MS Remote Desktop Request RDP                                  Latvia              185.209.0.143        10\n",
       "ET INFO User-Agent (python-requests) Inbound to Webserver                 United States       107.175.197.161       6\n",
       "Name: src_ip, dtype: int64"
      ]
     },
     "execution_count": 25,
     "metadata": {},
     "output_type": "execute_result"
    }
   ],
   "source": [
    "tpot.groupby(['alert.signature','geoip.country_name']).src_ip.value_counts().nlargest(10) \n",
    "#attack signatures from respective countries and src_ip"
   ]
  },
  {
   "cell_type": "code",
   "execution_count": 26,
   "metadata": {
    "scrolled": true
   },
   "outputs": [
    {
     "data": {
      "text/plain": [
       "src_ip           geoip.country_name  dest_ip      \n",
       "184.82.167.253   Thailand            172.31.22.131    7235\n",
       "101.51.236.231   Thailand            172.31.22.131    6971\n",
       "210.18.189.3     India               172.31.22.131    6142\n",
       "78.152.169.153   Ukraine             172.31.22.131    3133\n",
       "171.236.68.137   Vietnam             172.31.22.131    3093\n",
       "165.169.13.10    Réunion             172.31.22.131    2170\n",
       "176.118.217.242  Russia              172.31.22.131    1608\n",
       "93.80.60.111     Russia              172.31.22.131    1369\n",
       "113.22.100.9     Vietnam             172.31.22.131    1318\n",
       "222.85.111.159   China               172.31.22.131     637\n",
       "Name: dest_ip, dtype: int64"
      ]
     },
     "execution_count": 26,
     "metadata": {},
     "output_type": "execute_result"
    }
   ],
   "source": [
    "tpot.groupby(['src_ip','geoip.country_name']).dest_ip.value_counts().nlargest(10) \n",
    "#targeted destination ip from respective source ips"
   ]
  },
  {
   "cell_type": "code",
   "execution_count": 27,
   "metadata": {},
   "outputs": [
    {
     "data": {
      "text/plain": [
       "src_ip          geoip.country_name  os             \n",
       "184.82.167.253  Thailand            ???                1032\n",
       "                                    Windows 7 or 8     1031\n",
       "101.51.236.231  Thailand            ???                1001\n",
       "                                    Windows 7 or 8     1001\n",
       "210.18.189.3    India               ???                 877\n",
       "                                    Windows 7 or 8      877\n",
       "78.152.169.153  Ukraine             ???                 454\n",
       "                                    Windows 7 or 8      454\n",
       "171.236.68.137  Vietnam             ???                 413\n",
       "                                    Windows 7 or 8      413\n",
       "165.169.13.10   Réunion             Windows 7 or 8      330\n",
       "                                    ???                 300\n",
       "222.85.111.159  China               Windows 7 or 8      103\n",
       "                                    ???                  85\n",
       "1.206.76.68     China               Windows 7 or 8       76\n",
       "                                    ???                  75\n",
       "185.232.65.30   Romania             ???                  70\n",
       "192.3.67.106    United States       Linux 2.2.x-3.x      57\n",
       "51.161.13.149   United Kingdom      ???                  50\n",
       "27.79.145.18    Vietnam             Windows 7 or 8       48\n",
       "Name: os, dtype: int64"
      ]
     },
     "execution_count": 27,
     "metadata": {},
     "output_type": "execute_result"
    }
   ],
   "source": [
    "tpot.groupby(['src_ip','geoip.country_name']).os.value_counts().nlargest(20)\n",
    "#operating systems (os) detected from respective countries ip. Here ??? means unidentified os"
   ]
  },
  {
   "cell_type": "code",
   "execution_count": 28,
   "metadata": {},
   "outputs": [
    {
     "data": {
      "text/plain": [
       "SMB1_COMMAND_NEGOTIATE_PROTOCOL    4069\n",
       "SMB1_COMMAND_SESSION_SETUP_ANDX    4059\n",
       "SMB1_COMMAND_TRANS2_SECONDARY       128\n",
       "SMB1_COMMAND_TREE_CONNECT_ANDX       17\n",
       "SMB1_COMMAND_ECHO                    16\n",
       "SMB1_COMMAND_NT_TRANS                 8\n",
       "Name: smb.command, dtype: int64"
      ]
     },
     "execution_count": 28,
     "metadata": {},
     "output_type": "execute_result"
    }
   ],
   "source": [
    "tpot['smb.command'].value_counts()[:10]\n",
    "#top smb commands"
   ]
  },
  {
   "cell_type": "code",
   "execution_count": 29,
   "metadata": {},
   "outputs": [
    {
     "data": {
      "text/plain": [
       "query     675\n",
       "answer    675\n",
       "Name: dns.type, dtype: int64"
      ]
     },
     "execution_count": 29,
     "metadata": {},
     "output_type": "execute_result"
    }
   ],
   "source": [
    "tpot['dns.type'].value_counts()"
   ]
  },
  {
   "cell_type": "code",
   "execution_count": 31,
   "metadata": {},
   "outputs": [
    {
     "data": {
      "text/plain": [
       "geoip.postal_code  geoip.country_name  geoip.city_name  src_ip         \n",
       "390005             Russia              Ryazan           176.118.217.242    1608\n",
       "101194             Russia              Moscow           93.80.60.111       1369\n",
       "14202              United States       Buffalo          192.3.67.106        303\n",
       "                                                        23.95.226.155       203\n",
       "89101              United States       Las Vegas        209.141.40.12       190\n",
       "14202              United States       Buffalo          107.175.197.161     140\n",
       "76104              United States       Fort Worth       167.99.190.39       105\n",
       "14202              United States       Buffalo          107.172.141.143      86\n",
       "10013              United States       New York         159.89.83.165        66\n",
       "315400             Romania             Lipova           89.34.27.103         46\n",
       "Name: src_ip, dtype: int64"
      ]
     },
     "execution_count": 31,
     "metadata": {},
     "output_type": "execute_result"
    }
   ],
   "source": [
    "tpot.groupby(['geoip.postal_code','geoip.country_name','geoip.city_name']).src_ip.value_counts().nlargest(10)"
   ]
  },
  {
   "cell_type": "code",
   "execution_count": 32,
   "metadata": {},
   "outputs": [
    {
     "data": {
      "text/plain": [
       "alert.category                          geoip.country_name  geoip.city_name  src_ip         \n",
       "Attempted Administrator Privilege Gain  Russia              Ryazan           176.118.217.242    1573\n",
       "                                                            Moscow           93.80.60.111       1329\n",
       "                                        Vietnam             Hanoi            113.22.100.9       1278\n",
       "Attempted Information Leak              United States       Buffalo          192.3.67.106         25\n",
       "                                                                             23.95.226.155        17\n",
       "                                                            Fort Worth       167.99.190.39        10\n",
       "                                                            Buffalo          107.175.197.161       6\n",
       "Potentially Bad Traffic                 China               Guiyang          1.206.76.68           6\n",
       "Attempted Information Leak              Netherlands         Amsterdam        94.102.51.28          4\n",
       "                                        United States       Buffalo          107.172.141.143       4\n",
       "Name: src_ip, dtype: int64"
      ]
     },
     "execution_count": 32,
     "metadata": {},
     "output_type": "execute_result"
    }
   ],
   "source": [
    "tpot.groupby(['alert.category','geoip.country_name','geoip.city_name']).src_ip.value_counts().nlargest(10)\n",
    "#attacker profiling with respect to src ip"
   ]
  },
  {
   "cell_type": "code",
   "execution_count": null,
   "metadata": {},
   "outputs": [],
   "source": []
  }
 ],
 "metadata": {
  "kernelspec": {
   "display_name": "Python 3",
   "language": "python",
   "name": "python3"
  },
  "language_info": {
   "codemirror_mode": {
    "name": "ipython",
    "version": 3
   },
   "file_extension": ".py",
   "mimetype": "text/x-python",
   "name": "python",
   "nbconvert_exporter": "python",
   "pygments_lexer": "ipython3",
   "version": "3.7.6"
  }
 },
 "nbformat": 4,
 "nbformat_minor": 4
}
